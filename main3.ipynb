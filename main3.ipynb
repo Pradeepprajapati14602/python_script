{
 "cells": [
  {
   "cell_type": "code",
   "execution_count": 51,
   "metadata": {},
   "outputs": [],
   "source": [
    "import os\n",
    "import shutil\n",
    "from paddleocr import PaddleOCR"
   ]
  },
  {
   "cell_type": "code",
   "execution_count": 52,
   "metadata": {},
   "outputs": [],
   "source": [
    "# Source folder (each image in separate folder)\n",
    "source_folder = 'images/'"
   ]
  },
  {
   "cell_type": "code",
   "execution_count": 54,
   "metadata": {},
   "outputs": [],
   "source": [
    "# Destination folder for moving images\n",
    "destination_folder = 'img/'"
   ]
  },
  {
   "cell_type": "code",
   "execution_count": 55,
   "metadata": {},
   "outputs": [],
   "source": [
    "# Desired text jo aap check karna chahte hain\n",
    "desired_text = '21/07/23'"
   ]
  },
  {
   "cell_type": "code",
   "execution_count": 79,
   "metadata": {},
   "outputs": [],
   "source": [
    "# Coordinates\n",
    "# Define the x_coordinate and y_coordinate here\n",
    "x_coordinate = 990\n",
    "y_coordinate = 790"
   ]
  },
  {
   "cell_type": "code",
   "execution_count": 80,
   "metadata": {},
   "outputs": [
    {
     "name": "stdout",
     "output_type": "stream",
     "text": [
      "[2023/08/18 14:44:37] ppocr DEBUG: Namespace(alpha=1.0, benchmark=False, beta=1.0, cls_batch_num=6, cls_image_shape='3, 48, 192', cls_model_dir='C:\\\\Users\\\\Dell/.paddleocr/whl\\\\cls\\\\ch_ppocr_mobile_v2.0_cls_infer', cls_thresh=0.9, cpu_threads=10, crop_res_save_dir='./output', det=True, det_algorithm='DB', det_box_type='quad', det_db_box_thresh=0.6, det_db_score_mode='fast', det_db_thresh=0.3, det_db_unclip_ratio=1.5, det_east_cover_thresh=0.1, det_east_nms_thresh=0.2, det_east_score_thresh=0.8, det_limit_side_len=960, det_limit_type='max', det_model_dir='C:\\\\Users\\\\Dell/.paddleocr/whl\\\\det\\\\ch\\\\ch_PP-OCRv4_det_infer', det_pse_box_thresh=0.85, det_pse_min_area=16, det_pse_scale=1, det_pse_thresh=0, det_sast_nms_thresh=0.2, det_sast_score_thresh=0.5, draw_img_save_dir='./inference_results', drop_score=0.5, e2e_algorithm='PGNet', e2e_char_dict_path='./ppocr/utils/ic15_dict.txt', e2e_limit_side_len=768, e2e_limit_type='max', e2e_model_dir=None, e2e_pgnet_mode='fast', e2e_pgnet_score_thresh=0.5, e2e_pgnet_valid_set='totaltext', enable_mkldnn=False, fourier_degree=5, gpu_id=0, gpu_mem=500, help='==SUPPRESS==', image_dir=None, image_orientation=False, ir_optim=True, kie_algorithm='LayoutXLM', label_list=['0', '180'], lang='ch', layout=True, layout_dict_path=None, layout_model_dir=None, layout_nms_threshold=0.5, layout_score_threshold=0.5, max_batch_size=10, max_text_length=25, merge_no_span_structure=True, min_subgraph_size=15, mode='structure', ocr=True, ocr_order_method=None, ocr_version='PP-OCRv4', output='./output', page_num=0, precision='fp32', process_id=0, re_model_dir=None, rec=True, rec_algorithm='SVTR_LCNet', rec_batch_num=6, rec_char_dict_path='c:\\\\Users\\\\Dell\\\\AppData\\\\Local\\\\Programs\\\\Python\\\\Python38\\\\lib\\\\site-packages\\\\paddleocr\\\\ppocr\\\\utils\\\\ppocr_keys_v1.txt', rec_image_inverse=True, rec_image_shape='3, 48, 320', rec_model_dir='C:\\\\Users\\\\Dell/.paddleocr/whl\\\\rec\\\\ch\\\\ch_PP-OCRv4_rec_infer', recovery=False, return_word_box=False, save_crop_res=False, save_log_path='./log_output/', scales=[8, 16, 32], ser_dict_path='../train_data/XFUND/class_list_xfun.txt', ser_model_dir=None, show_log=True, sr_batch_num=1, sr_image_shape='3, 32, 128', sr_model_dir=None, structure_version='PP-StructureV2', table=True, table_algorithm='TableAttn', table_char_dict_path=None, table_max_len=488, table_model_dir=None, total_process_num=1, type='ocr', use_angle_cls=False, use_dilation=False, use_gpu=False, use_mp=False, use_npu=False, use_onnx=False, use_pdf2docx_api=False, use_pdserving=False, use_space_char=True, use_tensorrt=False, use_visual_backbone=True, use_xpu=False, vis_font_path='./doc/fonts/simfang.ttf', warmup=False)\n"
     ]
    }
   ],
   "source": [
    "# Initialize PaddleOCR\n",
    "ocr = PaddleOCR()"
   ]
  },
  {
   "cell_type": "code",
   "execution_count": 81,
   "metadata": {},
   "outputs": [],
   "source": [
    "# # Function to extract text using PaddleOCR\n",
    "# def extract_text(image_path, x, y):\n",
    "#     image = ocr.ocr(image_path)\n",
    "#     extracted_text = \"\"\n",
    "#     for result in image:\n",
    "#         for line in result:\n",
    "#             text = line[-2][0]\n",
    "#             text_x = line[0][0]\n",
    "#             text_y = line[0][1]\n",
    "#             if x <= text_x <= x + 100 and y <= text_y <= y + 30:\n",
    "#                 extracted_text += text\n",
    "#     return extracted_text"
   ]
  },
  {
   "cell_type": "code",
   "execution_count": 89,
   "metadata": {},
   "outputs": [
    {
     "name": "stdout",
     "output_type": "stream",
     "text": [
      "[2023/08/18 14:55:33] ppocr WARNING: Since the angle classifier is not initialized, the angle classifier will not be uesd during the forward process\n"
     ]
    },
    {
     "name": "stdout",
     "output_type": "stream",
     "text": [
      "[2023/08/18 14:55:35] ppocr DEBUG: dt_boxes num : 12, elapse : 1.657970666885376\n",
      "[2023/08/18 14:55:39] ppocr DEBUG: rec_res num  : 12, elapse : 4.343728303909302\n"
     ]
    },
    {
     "ename": "TypeError",
     "evalue": "sequence item 0: expected str instance, float found",
     "output_type": "error",
     "traceback": [
      "\u001b[1;31m---------------------------------------------------------------------------\u001b[0m",
      "\u001b[1;31mTypeError\u001b[0m                                 Traceback (most recent call last)",
      "Cell \u001b[1;32mIn[89], line 22\u001b[0m\n\u001b[0;32m     19\u001b[0m image_path \u001b[39m=\u001b[39m os\u001b[39m.\u001b[39mpath\u001b[39m.\u001b[39mjoin(source_folder, filename)\n\u001b[0;32m     21\u001b[0m \u001b[39m# Extract text using PaddleOCR\u001b[39;00m\n\u001b[1;32m---> 22\u001b[0m extracted_text \u001b[39m=\u001b[39m extract_text(image_path, x_coordinate, y_coordinate)\n\u001b[0;32m     24\u001b[0m \u001b[39m# Check if desired text is present\u001b[39;00m\n\u001b[0;32m     25\u001b[0m \u001b[39mif\u001b[39;00m desired_text \u001b[39min\u001b[39;00m extracted_text:\n",
      "Cell \u001b[1;32mIn[89], line 9\u001b[0m, in \u001b[0;36mextract_text\u001b[1;34m(image_path, x, y)\u001b[0m\n\u001b[0;32m      7\u001b[0m text \u001b[39m=\u001b[39m line[\u001b[39m-\u001b[39m\u001b[39m2\u001b[39m][\u001b[39m0\u001b[39m]\n\u001b[0;32m      8\u001b[0m \u001b[39mif\u001b[39;00m \u001b[39misinstance\u001b[39m(text, \u001b[39mlist\u001b[39m):  \u001b[39m# Handle the case where text is a list\u001b[39;00m\n\u001b[1;32m----> 9\u001b[0m     text \u001b[39m=\u001b[39m \u001b[39m'\u001b[39;49m\u001b[39m \u001b[39;49m\u001b[39m'\u001b[39;49m\u001b[39m.\u001b[39;49mjoin(text)\n\u001b[0;32m     10\u001b[0m text_x \u001b[39m=\u001b[39m line[\u001b[39m0\u001b[39m][\u001b[39m0\u001b[39m][\u001b[39m0\u001b[39m]  \u001b[39m# Extract the x-coordinate value from the list\u001b[39;00m\n\u001b[0;32m     11\u001b[0m text_y \u001b[39m=\u001b[39m line[\u001b[39m0\u001b[39m][\u001b[39m0\u001b[39m][\u001b[39m1\u001b[39m]  \u001b[39m# Extract the y-coordinate value from the list\u001b[39;00m\n",
      "\u001b[1;31mTypeError\u001b[0m: sequence item 0: expected str instance, float found"
     ]
    }
   ],
   "source": [
    "# Function to extract text using PaddleOCR\n",
    "def extract_text(image_path, x, y):\n",
    "    image = ocr.ocr(image_path)\n",
    "    extracted_text = []\n",
    "    for result in image:\n",
    "        for line in result:\n",
    "            text = line[-2][0]\n",
    "            if isinstance(text, list):  # Handle the case where text is a list\n",
    "                text = ' '.join(text)\n",
    "            text_x = line[0][0][0]  # Extract the x-coordinate value from the list\n",
    "            text_y = line[0][0][1]  # Extract the y-coordinate value from the list\n",
    "            if x <= text_x <= x + 100 and y <= text_y <= y + 30:\n",
    "                extracted_text.append(text)\n",
    "    return ' '.join(extracted_text)\n",
    "\n",
    "# Loop through each image in the source folder\n",
    "for filename in os.listdir(source_folder):\n",
    "    if filename.startswith('frame') and (filename.endswith('.jpg') or filename.endswith('.png')):\n",
    "        image_path = os.path.join(source_folder, filename)\n",
    "\n",
    "        # Extract text using PaddleOCR\n",
    "        extracted_text = extract_text(image_path, x_coordinate, y_coordinate)\n",
    "\n",
    "        # Check if desired text is present\n",
    "        if desired_text in extracted_text:\n",
    "            print(\"Text found in\", filename, \"- Image will remain in the same location.\")\n",
    "        else:\n",
    "            new_path = os.path.join(destination_folder, filename)\n",
    "            shutil.move(image_path, new_path)\n",
    "            print(\"Text not found in\", filename, \"- Image moved to destination folder.\")\n",
    "\n",
    "print(\"Process completed.\")"
   ]
  },
  {
   "cell_type": "code",
   "execution_count": 85,
   "metadata": {},
   "outputs": [
    {
     "name": "stdout",
     "output_type": "stream",
     "text": [
      "[2023/08/18 14:49:47] ppocr WARNING: Since the angle classifier is not initialized, the angle classifier will not be uesd during the forward process\n"
     ]
    },
    {
     "name": "stdout",
     "output_type": "stream",
     "text": [
      "[2023/08/18 14:49:48] ppocr DEBUG: dt_boxes num : 12, elapse : 1.1570158004760742\n",
      "[2023/08/18 14:49:53] ppocr DEBUG: rec_res num  : 12, elapse : 4.568519115447998\n"
     ]
    },
    {
     "ename": "TypeError",
     "evalue": "can only concatenate list (not \"str\") to list",
     "output_type": "error",
     "traceback": [
      "\u001b[1;31m---------------------------------------------------------------------------\u001b[0m",
      "\u001b[1;31mTypeError\u001b[0m                                 Traceback (most recent call last)",
      "Cell \u001b[1;32mIn[85], line 20\u001b[0m\n\u001b[0;32m     17\u001b[0m image_path \u001b[39m=\u001b[39m os\u001b[39m.\u001b[39mpath\u001b[39m.\u001b[39mjoin(source_folder, filename)\n\u001b[0;32m     19\u001b[0m \u001b[39m# Extract text using PaddleOCR\u001b[39;00m\n\u001b[1;32m---> 20\u001b[0m extracted_text \u001b[39m=\u001b[39m extract_text(image_path, x_coordinate, y_coordinate)\n\u001b[0;32m     22\u001b[0m \u001b[39m# Check if desired text is present\u001b[39;00m\n\u001b[0;32m     23\u001b[0m \u001b[39mif\u001b[39;00m desired_text \u001b[39min\u001b[39;00m extracted_text:\n",
      "Cell \u001b[1;32mIn[85], line 11\u001b[0m, in \u001b[0;36mextract_text\u001b[1;34m(image_path, x, y)\u001b[0m\n\u001b[0;32m      9\u001b[0m         text_y \u001b[39m=\u001b[39m line[\u001b[39m0\u001b[39m][\u001b[39m0\u001b[39m][\u001b[39m1\u001b[39m]  \u001b[39m# Access the y-coordinate value\u001b[39;00m\n\u001b[0;32m     10\u001b[0m         \u001b[39mif\u001b[39;00m x \u001b[39m<\u001b[39m\u001b[39m=\u001b[39m text_x \u001b[39m<\u001b[39m\u001b[39m=\u001b[39m x \u001b[39m+\u001b[39m \u001b[39m100\u001b[39m \u001b[39mand\u001b[39;00m y \u001b[39m<\u001b[39m\u001b[39m=\u001b[39m text_y \u001b[39m<\u001b[39m\u001b[39m=\u001b[39m y \u001b[39m+\u001b[39m \u001b[39m30\u001b[39m:\n\u001b[1;32m---> 11\u001b[0m             extracted_text \u001b[39m+\u001b[39m\u001b[39m=\u001b[39m text \u001b[39m+\u001b[39;49m \u001b[39m'\u001b[39;49m\u001b[39m \u001b[39;49m\u001b[39m'\u001b[39;49m  \u001b[39m# Accumulate the extracted text\u001b[39;00m\n\u001b[0;32m     12\u001b[0m \u001b[39mreturn\u001b[39;00m extracted_text\u001b[39m.\u001b[39mstrip()\n",
      "\u001b[1;31mTypeError\u001b[0m: can only concatenate list (not \"str\") to list"
     ]
    }
   ],
   "source": [
    "# # Function to extract text using PaddleOCR\n",
    "# def extract_text(image_path, x, y):\n",
    "#     image = ocr.ocr(image_path)\n",
    "#     extracted_text = \"\"\n",
    "#     for result in image:\n",
    "#         for line in result:\n",
    "#             text = line[-2][0]\n",
    "#             text_x = line[0][0][0]  # Access the x-coordinate value\n",
    "#             text_y = line[0][0][1]  # Access the y-coordinate value\n",
    "#             if x <= text_x <= x + 100 and y <= text_y <= y + 30:\n",
    "#                 extracted_text += text + ' '  # Accumulate the extracted text\n",
    "#     return extracted_text.strip()  # Remove trailing space\n",
    "\n",
    "# # Loop through each image in the source folder\n",
    "# for filename in os.listdir(source_folder):\n",
    "#     if filename.startswith('frame') and (filename.endswith('.jpg') or filename.endswith('.png')):\n",
    "#         image_path = os.path.join(source_folder, filename)\n",
    "\n",
    "#         # Extract text using PaddleOCR\n",
    "#         extracted_text = extract_text(image_path, x_coordinate, y_coordinate)\n",
    "\n",
    "#         # Check if desired text is present\n",
    "#         if desired_text in extracted_text:\n",
    "#             print(\"Text found in\", filename, \"- Image will remain in the same location.\")\n",
    "#         else:\n",
    "#             new_path = os.path.join(destination_folder, filename)\n",
    "#             shutil.move(image_path, new_path)\n",
    "#             print(\"Text not found in\", filename, \"- Image moved to destination folder.\")\n",
    "\n",
    "# print(\"Process completed.\")"
   ]
  }
 ],
 "metadata": {
  "kernelspec": {
   "display_name": "Python 3",
   "language": "python",
   "name": "python3"
  },
  "language_info": {
   "codemirror_mode": {
    "name": "ipython",
    "version": 3
   },
   "file_extension": ".py",
   "mimetype": "text/x-python",
   "name": "python",
   "nbconvert_exporter": "python",
   "pygments_lexer": "ipython3",
   "version": "3.8.0"
  },
  "orig_nbformat": 4
 },
 "nbformat": 4,
 "nbformat_minor": 2
}
